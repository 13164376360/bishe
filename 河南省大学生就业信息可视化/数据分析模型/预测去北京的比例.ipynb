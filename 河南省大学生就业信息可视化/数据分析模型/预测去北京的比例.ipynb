{
 "cells": [
  {
   "cell_type": "code",
   "execution_count": 8,
   "metadata": {},
   "outputs": [],
   "source": [
    "import pandas as pd\n",
    "import numpy as np\n",
    "import matplotlib.pyplot as plt\n",
    "from sklearn.linear_model import LinearRegression\n",
    "import seaborn as sns\n",
    "from sklearn.neighbors import KNeighborsRegressor\n",
    "from sklearn.model_selection import train_test_split\n",
    "from sklearn import preprocessing\n",
    "from sklearn.preprocessing import StandardScaler"
   ]
  },
  {
   "cell_type": "code",
   "execution_count": 9,
   "metadata": {},
   "outputs": [
    {
     "name": "stdout",
     "output_type": "stream",
     "text": [
      "        date  proportion   pay    work\n",
      "0 2019-01-01    0.002900  7750  0.0396\n",
      "1 2018-01-01    0.002100  7114  0.0446\n",
      "2 2017-01-01    0.001000  7053  0.0513\n",
      "3 2016-01-01    0.000317  6985  0.0436\n"
     ]
    },
    {
     "data": {
      "text/html": [
       "<div>\n",
       "<style scoped>\n",
       "    .dataframe tbody tr th:only-of-type {\n",
       "        vertical-align: middle;\n",
       "    }\n",
       "\n",
       "    .dataframe tbody tr th {\n",
       "        vertical-align: top;\n",
       "    }\n",
       "\n",
       "    .dataframe thead th {\n",
       "        text-align: right;\n",
       "    }\n",
       "</style>\n",
       "<table border=\"1\" class=\"dataframe\">\n",
       "  <thead>\n",
       "    <tr style=\"text-align: right;\">\n",
       "      <th></th>\n",
       "      <th>proportion</th>\n",
       "      <th>pay</th>\n",
       "      <th>work</th>\n",
       "    </tr>\n",
       "    <tr>\n",
       "      <th>date</th>\n",
       "      <th></th>\n",
       "      <th></th>\n",
       "      <th></th>\n",
       "    </tr>\n",
       "  </thead>\n",
       "  <tbody>\n",
       "    <tr>\n",
       "      <th>2016-01-01</th>\n",
       "      <td>0.000317</td>\n",
       "      <td>6985</td>\n",
       "      <td>0.0436</td>\n",
       "    </tr>\n",
       "    <tr>\n",
       "      <th>2017-01-01</th>\n",
       "      <td>0.001000</td>\n",
       "      <td>7053</td>\n",
       "      <td>0.0513</td>\n",
       "    </tr>\n",
       "    <tr>\n",
       "      <th>2018-01-01</th>\n",
       "      <td>0.002100</td>\n",
       "      <td>7114</td>\n",
       "      <td>0.0446</td>\n",
       "    </tr>\n",
       "    <tr>\n",
       "      <th>2019-01-01</th>\n",
       "      <td>0.002900</td>\n",
       "      <td>7750</td>\n",
       "      <td>0.0396</td>\n",
       "    </tr>\n",
       "  </tbody>\n",
       "</table>\n",
       "</div>"
      ],
      "text/plain": [
       "            proportion   pay    work\n",
       "date                                \n",
       "2016-01-01    0.000317  6985  0.0436\n",
       "2017-01-01    0.001000  7053  0.0513\n",
       "2018-01-01    0.002100  7114  0.0446\n",
       "2019-01-01    0.002900  7750  0.0396"
      ]
     },
     "execution_count": 9,
     "metadata": {},
     "output_type": "execute_result"
    }
   ],
   "source": [
    "#读取数据\n",
    "df = pd.read_excel('work.xlsx')\n",
    "df  # data frame\n",
    "df.head()\n",
    "print(df)\n",
    "\n",
    "df['date'] = pd.to_datetime(df['date'])\n",
    "df = df.set_index('date')\n",
    "# 按照时间升序排列\n",
    "df.sort_values(by=['date'], inplace=True, ascending=True)\n",
    "df.tail()"
   ]
  },
  {
   "cell_type": "code",
   "execution_count": 3,
   "metadata": {},
   "outputs": [
    {
     "name": "stdout",
     "output_type": "stream",
     "text": [
      "[1.77635684e-15]\n"
     ]
    }
   ],
   "source": [
    "X = df[['proportion', 'pay']]\n",
    "y = df['work'].values.reshape(-1, 1)\n",
    "X_train, X_test, y_train, y_test = train_test_split(X, y, test_size=0.3, random_state=41)\n",
    "\n",
    "X_normalizer = StandardScaler() # N(0,1)\n",
    "X_train = X_normalizer.fit_transform(X_train)\n",
    "X_test = X_normalizer.transform(X_test)\n",
    "\n",
    "y_normalizer = StandardScaler()\n",
    "y_train = y_normalizer.fit_transform(y_train)\n",
    "y_test = y_normalizer.transform(y_test)\n",
    "\n",
    "knn = KNeighborsRegressor(n_neighbors=2)\n",
    "knn.fit(X_train, y_train.ravel())\n",
    "#Now we can predict prices:\n",
    "y_pred = knn.predict(X_test)\n",
    "y_pred_inv = y_normalizer.inverse_transform(y_pred)\n",
    "y_test_inv = y_normalizer.inverse_transform(y_test)\n",
    "\n",
    "x1=[[0.000317,6985]]\n",
    "print(knn.predict(x1))"
   ]
  },
  {
   "cell_type": "code",
   "execution_count": 4,
   "metadata": {},
   "outputs": [
    {
     "data": {
      "image/png": "[encoded data removed]",
      "text/plain": [
       "<Figure size 432x288 with 1 Axes>"
      ]
     },
     "metadata": {
      "needs_background": "light"
     },
     "output_type": "display_data"
    },
    {
     "name": "stdout",
     "output_type": "stream",
     "text": [
      "[0.0416 0.0416]\n"
     ]
    }
   ],
   "source": [
    "\n",
    "# Now add the perfect prediction line\n",
    "diagonal = np.linspace(500, 1500, 100)\n",
    "plt.plot(diagonal, diagonal, '-r')\n",
    "plt.xlabel('Predicted work')\n",
    "plt.ylabel('work')\n",
    "plt.show()\n",
    "print(y_pred_inv)\n"
   ]
  },
  {
   "cell_type": "code",
   "execution_count": 5,
   "metadata": {},
   "outputs": [
    {
     "data": {
      "text/plain": [
       "array([1.77635684e-15, 1.77635684e-15])"
      ]
     },
     "execution_count": 5,
     "metadata": {},
     "output_type": "execute_result"
    }
   ],
   "source": [
    "pred = knn.predict(X_test)\n",
    "pred"
   ]
  },
  {
   "cell_type": "code",
   "execution_count": null,
   "metadata": {},
   "outputs": [],
   "source": []
  },
  {
   "cell_type": "code",
   "execution_count": 6,
   "metadata": {},
   "outputs": [
    {
     "name": "stdout",
     "output_type": "stream",
     "text": [
      "a = -2.3378\n",
      "b = 0.048467\n",
      "线性模型为: Y = -2.3378X + 0.048467 \n"
     ]
    }
   ],
   "source": [
    "X = df['proportion'].values.reshape(-1,1)\n",
    "y = df['work'].values.reshape(-1,1)\n",
    "\n",
    "reg = LinearRegression()\n",
    "reg.fit(X, y)\n",
    "print('a = {:.5}'.format(reg.coef_[0][0]))\n",
    "print('b = {:.5}'.format(reg.intercept_[0]))\n",
    "\n",
    "print(\"线性模型为: Y = {:.5}X + {:.5} \".format(reg.coef_[0][0], reg.intercept_[0]))\n"
   ]
  },
  {
   "cell_type": "code",
   "execution_count": 7,
   "metadata": {},
   "outputs": [
    {
     "name": "stdout",
     "output_type": "stream",
     "text": [
      "[[0.04379126]]\n"
     ]
    },
    {
     "data": {
      "image/png": "[encoded data removed]",
      "text/plain": [
       "<Figure size 1152x576 with 1 Axes>"
      ]
     },
     "metadata": {
      "needs_background": "light"
     },
     "output_type": "display_data"
    }
   ],
   "source": [
    "predictions = reg.predict(X)\n",
    "x1=[[0.002]]\n",
    "print(reg.predict(x1))\n",
    "\n",
    "plt.figure(figsize=(16, 8))\n",
    "plt.scatter(df['proportion'], df['work'], c ='black')\n",
    "plt.plot(df['proportion'], predictions,c ='blue', linewidth=2)\n",
    "plt.xlabel(\"proportion\")\n",
    "plt.ylabel(\"work\")\n",
    "plt.show()"
   ]
  },
  {
   "cell_type": "code",
   "execution_count": null,
   "metadata": {},
   "outputs": [],
   "source": []
  }
 ],
 "metadata": {
  "kernelspec": {
   "display_name": "Python 3",
   "language": "python",
   "name": "python3"
  },
  "language_info": {
   "codemirror_mode": {
    "name": "ipython",
    "version": 3
   },
   "file_extension": ".py",
   "mimetype": "text/x-python",
   "name": "python",
   "nbconvert_exporter": "python",
   "pygments_lexer": "ipython3",
   "version": "3.7.6"
  }
 },
 "nbformat": 4,
 "nbformat_minor": 4
}
