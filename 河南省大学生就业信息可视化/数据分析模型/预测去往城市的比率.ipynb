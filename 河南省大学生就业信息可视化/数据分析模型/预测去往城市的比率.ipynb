{
 "cells": [
  {
   "cell_type": "code",
   "execution_count": 2,
   "metadata": {},
   "outputs": [],
   "source": [
    "import pandas as pd\n",
    "import numpy as np\n",
    "import matplotlib.pyplot as plt\n",
    "from sklearn.linear_model import LinearRegression\n",
    "import seaborn as sns\n",
    "from sklearn.neighbors import KNeighborsRegressor\n",
    "from sklearn.model_selection import train_test_split\n",
    "from sklearn import preprocessing\n",
    "from sklearn.preprocessing import StandardScaler"
   ]
  },
  {
   "cell_type": "code",
   "execution_count": 3,
   "metadata": {},
   "outputs": [
    {
     "name": "stdout",
     "output_type": "stream",
     "text": [
      "     level      to      from       cha\n",
      "0        3  0.0112  0.016400 -0.005200\n",
      "1        3  0.0003  0.000000  0.000300\n",
      "2        3  0.0163  0.015100  0.001200\n",
      "3        3  0.0071  0.019700 -0.012600\n",
      "4        3  0.0103  0.017600 -0.007300\n",
      "..     ...     ...       ...       ...\n",
      "105      3  0.0018  0.003485 -0.001685\n",
      "106      3  0.0002  0.000158  0.000042\n",
      "107      3  0.0128  0.010455  0.002345\n",
      "108      3  0.0071  0.017741 -0.010641\n",
      "109      3  0.0066  0.005544  0.001056\n",
      "\n",
      "[110 rows x 4 columns]\n"
     ]
    }
   ],
   "source": [
    "#读取数据\n",
    "df = pd.read_excel('twoline.xlsx')\n",
    "df  # data frame\n",
    "df.head()\n",
    "print(df)\n",
    "\n",
    "# df['date'] = pd.to_datetime(df['date'])\n",
    "# df = df.set_index('date')\n",
    "# # 按照时间升序排列\n",
    "# df.sort_values(by=['date'], inplace=True, ascending=True)\n",
    "# df.tail()"
   ]
  },
  {
   "cell_type": "code",
   "execution_count": 4,
   "metadata": {},
   "outputs": [
    {
     "name": "stdout",
     "output_type": "stream",
     "text": [
      "[1.19732634]\n"
     ]
    }
   ],
   "source": [
    "X = df[['cha', 'from']]\n",
    "y = df['to'].values.reshape(-1, 1)\n",
    "X_train, X_test, y_train, y_test = train_test_split(X, y, test_size=0.3, random_state=41)\n",
    "\n",
    "X_normalizer = StandardScaler() # N(0,1)\n",
    "X_train = X_normalizer.fit_transform(X_train)\n",
    "X_test = X_normalizer.transform(X_test)\n",
    "\n",
    "y_normalizer = StandardScaler()\n",
    "y_train = y_normalizer.fit_transform(y_train)\n",
    "y_test = y_normalizer.transform(y_test)\n",
    "\n",
    "knn = KNeighborsRegressor(n_neighbors=2)\n",
    "knn.fit(X_train, y_train.ravel())\n",
    "#Now we can predict prices:\n",
    "y_pred = knn.predict(X_test)\n",
    "y_pred_inv = y_normalizer.inverse_transform(y_pred)\n",
    "y_test_inv = y_normalizer.inverse_transform(y_test)\n",
    "\n",
    "x1=[[2,0.0025]]\n",
    "print(knn.predict(x1))"
   ]
  },
  {
   "cell_type": "code",
   "execution_count": 5,
   "metadata": {},
   "outputs": [
    {
     "data": {
      "image/png": "[encoded data removed]",
      "text/plain": [
       "<Figure size 432x288 with 1 Axes>"
      ]
     },
     "metadata": {
      "needs_background": "light"
     },
     "output_type": "display_data"
    },
    {
     "name": "stdout",
     "output_type": "stream",
     "text": [
      "[0.0003  0.0243  0.0003  0.01335 0.04945 0.00015 0.00345 0.0023  0.0104\n",
      " 0.00425 0.0023  0.0051  0.01895 0.00385 0.01335 0.00375 0.00515 0.00395\n",
      " 0.0099  0.00605 0.0154  0.0003  0.00495 0.00885 0.00305 0.0024  0.009\n",
      " 0.01165 0.0229  0.00605 0.0003  0.00305 0.0024 ]\n"
     ]
    }
   ],
   "source": [
    "\n",
    "# Now add the perfect prediction line\n",
    "diagonal = np.linspace(0, 1, 100)\n",
    "plt.plot(diagonal, diagonal, '-r')\n",
    "plt.xlabel('from')\n",
    "plt.ylabel('to')\n",
    "plt.show()\n",
    "print(y_pred_inv)\n"
   ]
  },
  {
   "cell_type": "code",
   "execution_count": 6,
   "metadata": {},
   "outputs": [
    {
     "data": {
      "text/plain": [
       "array([-0.91612393,  1.05752613, -0.91612393,  0.15704829,  3.12574693,\n",
       "       -0.92845924, -0.65708236, -0.75165309, -0.0855462 , -0.59129402,\n",
       "       -0.75165309, -0.52139392,  0.61756664, -0.62418819,  0.15704829,\n",
       "       -0.63241173, -0.51728215, -0.61596465, -0.12666391, -0.44327027,\n",
       "        0.3256309 , -0.91612393, -0.53372923, -0.2130111 , -0.68997653,\n",
       "       -0.74342955, -0.20067578,  0.01724808,  0.94239654, -0.44327027,\n",
       "       -0.91612393, -0.68997653, -0.74342955])"
      ]
     },
     "execution_count": 6,
     "metadata": {},
     "output_type": "execute_result"
    }
   ],
   "source": [
    "pred = knn.predict(X_test)\n",
    "pred"
   ]
  },
  {
   "cell_type": "code",
   "execution_count": null,
   "metadata": {},
   "outputs": [],
   "source": []
  },
  {
   "cell_type": "code",
   "execution_count": 7,
   "metadata": {},
   "outputs": [
    {
     "name": "stdout",
     "output_type": "stream",
     "text": [
      "a = 0.71115\n",
      "b = 0.0013997\n",
      "线性模型为: Y = 0.71115X + 0.0013997 \n"
     ]
    }
   ],
   "source": [
    "X = df['from'].values.reshape(-1,1)\n",
    "y = df['to'].values.reshape(-1,1)\n",
    "\n",
    "reg = LinearRegression()\n",
    "reg.fit(X, y)\n",
    "print('a = {:.5}'.format(reg.coef_[0][0]))\n",
    "print('b = {:.5}'.format(reg.intercept_[0]))\n",
    "\n",
    "print(\"线性模型为: Y = {:.5}X + {:.5} \".format(reg.coef_[0][0], reg.intercept_[0]))\n"
   ]
  },
  {
   "cell_type": "code",
   "execution_count": 53,
   "metadata": {},
   "outputs": [
    {
     "name": "stdout",
     "output_type": "stream",
     "text": [
      "[[0.00282204]]\n"
     ]
    },
    {
     "data": {
      "image/png": "[encoded data removed]",
      "text/plain": [
       "<Figure size 1152x576 with 1 Axes>"
      ]
     },
     "metadata": {
      "needs_background": "light"
     },
     "output_type": "display_data"
    }
   ],
   "source": [
    "predictions = reg.predict(X)\n",
    "x1=[[0.002]]\n",
    "print(reg.predict(x1))\n",
    "\n",
    "plt.figure(figsize=(16, 8))\n",
    "plt.scatter(df['from'], df['to'], c ='black')\n",
    "plt.plot(df['from'], predictions,c ='blue', linewidth=2)\n",
    "plt.xlabel(\"from\")\n",
    "plt.ylabel(\"to\")\n",
    "plt.show()"
   ]
  },
  {
   "cell_type": "code",
   "execution_count": 54,
   "metadata": {},
   "outputs": [
    {
     "name": "stdout",
     "output_type": "stream",
     "text": [
      "0.012778099999999999\n"
     ]
    }
   ],
   "source": [
    "# 线性模型为: Y = 0.85824X + 0.0042274 \n",
    "# Y = 0.85824*0.5752 + 0.0042274\n",
    "# Y = 0.85824*0.01 + 0.0042274\n",
    "# 郑州轻工业大学的数据模型\n",
    "# 河南去往比例的线性模型\n",
    "# Y = 2.1085*0.5752 + -0.76302\n",
    "# 去往一线城市比例的线性模型\n",
    "# Y = 1.9317*0.0029 + 0.03908\n",
    "# 去往二线城市的线性模型\n",
    "Y = 0.71115*0.016 + 0.0013997\n",
    "print(Y)"
   ]
  },
  {
   "cell_type": "code",
   "execution_count": null,
   "metadata": {},
   "outputs": [],
   "source": []
  }
 ],
 "metadata": {
  "kernelspec": {
   "display_name": "Python 3",
   "language": "python",
   "name": "python3"
  },
  "language_info": {
   "codemirror_mode": {
    "name": "ipython",
    "version": 3
   },
   "file_extension": ".py",
   "mimetype": "text/x-python",
   "name": "python",
   "nbconvert_exporter": "python",
   "pygments_lexer": "ipython3",
   "version": "3.7.6"
  }
 },
 "nbformat": 4,
 "nbformat_minor": 4
}
